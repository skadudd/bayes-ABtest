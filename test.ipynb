{
 "cells": [
  {
   "cell_type": "code",
   "execution_count": 3,
   "metadata": {},
   "outputs": [],
   "source": [
    "#%%\n",
    "import numpy as np\n",
    "import matplotlib.pyplot as plt\n",
    "import pymc as pm\n",
    "\n",
    "# import pymc as pm\n",
    "import aesara.tensor as at \n",
    "import aesara\n"
   ]
  },
  {
   "cell_type": "code",
   "execution_count": 15,
   "metadata": {},
   "outputs": [
    {
     "name": "stdout",
     "output_type": "stream",
     "text": [
      "[30.85237346 28.05568968 44.2077682  25.48412944 26.02619557 36.2976398\n",
      " 39.70826617 45.94934155]\n"
     ]
    }
   ],
   "source": [
    "#%%\n",
    "import numpy as np\n",
    "import matplotlib.pyplot as plt\n",
    "import pymc as pm\n",
    "#%%\n",
    "N=250\n",
    "mu_A, std_A = 30,4\n",
    "mu_B, std_B = 35,7\n",
    "\n",
    "# %%\n",
    "duration_A = np.random.normal(mu_A,std_A,size=N)\n",
    "duration_B = np.random.normal(mu_B,std_B,size=N)\n",
    "\n",
    "# %%\n",
    "print (duration_B[:8])\n"
   ]
  },
  {
   "cell_type": "code",
   "execution_count": 16,
   "metadata": {},
   "outputs": [],
   "source": [
    "\n",
    "# %%\n",
    "pooled_mean = np.r_[duration_A,duration_B].mean()\n",
    "pooled_std = np.r_[duration_A,duration_B].std()\n",
    "tau = 1/(1000*pooled_std**2) # precision parameter\n",
    "# %%\n",
    "\n"
   ]
  },
  {
   "cell_type": "code",
   "execution_count": 17,
   "metadata": {},
   "outputs": [],
   "source": [
    "with pm.Model() as model:\n",
    "    mu_A = pm.Normal(\"mu_A\",mu=pooled_mean,sigma=10*pooled_std)\n",
    "    mu_B = pm.Normal(\"mu_B\",mu=pooled_mean,sigma=10*pooled_std)\n",
    "\n",
    "    std_A = pm.Uniform(\"std_A\", pooled_std/1000, 1000*pooled_std)\n",
    "    std_B = pm.Uniform(\"std_B\", pooled_std/1000, 1000*pooled_std)\n",
    "\n",
    "    nu = pm.Exponential(\"nu-1\",1/29)+1\n",
    "\n",
    "    lambda_A = std_A**-2\n",
    "    lambda_B = std_B**-2\n",
    "\n",
    "    obs_A = pm.StudentT(\"obs_A\",mu=mu_A,lam=lambda_A, nu=nu, observed=duration_A)\n",
    "    obs_B = pm.StudentT(\"obs_B\",mu=mu_B,lam=lambda_B, nu=nu, observed=duration_B)\n",
    "\n",
    "    # If you want to get MCMC samples of some transformations of parameters, \n",
    "    # pm.use Deterministic\n",
    "    diff_of_means = pm.Deterministic('difference of means', mu_A - mu_B)\n",
    "    diff_of_stds = pm.Deterministic('difference of stds', std_A - std_B)\n",
    "    effect_size = pm.Deterministic('effect size',diff_of_means / np.sqrt((std_A**2 + std_B**2) / 2))\n"
   ]
  },
  {
   "cell_type": "code",
   "execution_count": 12,
   "metadata": {},
   "outputs": [
    {
     "name": "stderr",
     "output_type": "stream",
     "text": [
      "Auto-assigning NUTS sampler...\n",
      "Initializing NUTS using jitter+adapt_diag...\n",
      "Multiprocess sampling (4 chains in 4 jobs)\n",
      "NUTS: [mu_A, mu_B, std_A, std_B, nu-1]\n"
     ]
    },
    {
     "data": {
      "text/html": [
       "\n",
       "    <div>\n",
       "        <style>\n",
       "            /* Turns off some styling */\n",
       "            progress {\n",
       "                /* gets rid of default border in Firefox and Opera. */\n",
       "                border: none;\n",
       "                /* Needs to be in here for Safari polyfill so background images work as expected. */\n",
       "                background-size: auto;\n",
       "            }\n",
       "            .progress-bar-interrupted, .progress-bar-interrupted::-webkit-progress-bar {\n",
       "                background: #F44336;\n",
       "            }\n",
       "        </style>\n",
       "      <progress value='140000' class='' max='140000' style='width:300px; height:20px; vertical-align: middle;'></progress>\n",
       "      100.00% [140000/140000 00:25<00:00 Sampling 4 chains, 2 divergences]\n",
       "    </div>\n",
       "    "
      ],
      "text/plain": [
       "<IPython.core.display.HTML object>"
      ]
     },
     "metadata": {},
     "output_type": "display_data"
    },
    {
     "name": "stderr",
     "output_type": "stream",
     "text": [
      "Sampling 4 chains for 10_000 tune and 25_000 draw iterations (40_000 + 100_000 draws total) took 25 seconds.\n",
      "There were 2 divergences after tuning. Increase `target_accept` or reparameterize.\n"
     ]
    }
   ],
   "source": [
    "with model:\n",
    "    race = pm.sample(25000, tune=10000, return_inferencedata=True)\n",
    "    # trace = pm.sample(2000, chains=4, tune=1000)\n",
    "    # step = pm.Metropolis()\n",
    "    \n",
    "    # trace = pm.sample(20000, step=step,chains=2)\n",
    "    # trace = pm.sample(iter=25000,tune=1000,step=step, thin=1,cores=1) # Broken pipe"
   ]
  },
  {
   "cell_type": "code",
   "execution_count": 18,
   "metadata": {},
   "outputs": [
    {
     "name": "stderr",
     "output_type": "stream",
     "text": [
      "Multiprocess sampling (2 chains in 4 jobs)\n",
      "CompoundStep\n",
      ">Metropolis: [mu_A]\n",
      ">Metropolis: [mu_B]\n",
      ">Metropolis: [std_A]\n",
      ">Metropolis: [std_B]\n",
      ">Metropolis: [nu-1]\n"
     ]
    },
    {
     "data": {
      "text/html": [
       "\n",
       "    <div>\n",
       "        <style>\n",
       "            /* Turns off some styling */\n",
       "            progress {\n",
       "                /* gets rid of default border in Firefox and Opera. */\n",
       "                border: none;\n",
       "                /* Needs to be in here for Safari polyfill so background images work as expected. */\n",
       "                background-size: auto;\n",
       "            }\n",
       "            .progress-bar-interrupted, .progress-bar-interrupted::-webkit-progress-bar {\n",
       "                background: #F44336;\n",
       "            }\n",
       "        </style>\n",
       "      <progress value='60000' class='' max='60000' style='width:300px; height:20px; vertical-align: middle;'></progress>\n",
       "      100.00% [60000/60000 00:10<00:00 Sampling 2 chains, 0 divergences]\n",
       "    </div>\n",
       "    "
      ],
      "text/plain": [
       "<IPython.core.display.HTML object>"
      ]
     },
     "metadata": {},
     "output_type": "display_data"
    },
    {
     "name": "stderr",
     "output_type": "stream",
     "text": [
      "Sampling 2 chains for 10_000 tune and 20_000 draw iterations (20_000 + 40_000 draws total) took 11 seconds.\n",
      "We recommend running at least 4 chains for robust computation of convergence diagnostics\n"
     ]
    },
    {
     "name": "stdout",
     "output_type": "stream",
     "text": [
      "A평균:30.134, B평균:35.033, A-B평균:-4.898\n"
     ]
    },
    {
     "data": {
      "text/html": [
       "<div>\n",
       "<style scoped>\n",
       "    .dataframe tbody tr th:only-of-type {\n",
       "        vertical-align: middle;\n",
       "    }\n",
       "\n",
       "    .dataframe tbody tr th {\n",
       "        vertical-align: top;\n",
       "    }\n",
       "\n",
       "    .dataframe thead th {\n",
       "        text-align: right;\n",
       "    }\n",
       "</style>\n",
       "<table border=\"1\" class=\"dataframe\">\n",
       "  <thead>\n",
       "    <tr style=\"text-align: right;\">\n",
       "      <th></th>\n",
       "      <th>mean</th>\n",
       "      <th>sd</th>\n",
       "      <th>hdi_3%</th>\n",
       "      <th>hdi_97%</th>\n",
       "      <th>mcse_mean</th>\n",
       "      <th>mcse_sd</th>\n",
       "      <th>ess_bulk</th>\n",
       "      <th>ess_tail</th>\n",
       "      <th>r_hat</th>\n",
       "    </tr>\n",
       "  </thead>\n",
       "  <tbody>\n",
       "    <tr>\n",
       "      <th>mu_A</th>\n",
       "      <td>30.134</td>\n",
       "      <td>0.257</td>\n",
       "      <td>29.636</td>\n",
       "      <td>30.605</td>\n",
       "      <td>0.003</td>\n",
       "      <td>0.002</td>\n",
       "      <td>8118.0</td>\n",
       "      <td>8473.0</td>\n",
       "      <td>1.0</td>\n",
       "    </tr>\n",
       "    <tr>\n",
       "      <th>mu_B</th>\n",
       "      <td>35.033</td>\n",
       "      <td>0.444</td>\n",
       "      <td>34.190</td>\n",
       "      <td>35.847</td>\n",
       "      <td>0.005</td>\n",
       "      <td>0.003</td>\n",
       "      <td>8822.0</td>\n",
       "      <td>9056.0</td>\n",
       "      <td>1.0</td>\n",
       "    </tr>\n",
       "    <tr>\n",
       "      <th>std_A</th>\n",
       "      <td>3.942</td>\n",
       "      <td>0.199</td>\n",
       "      <td>3.563</td>\n",
       "      <td>4.304</td>\n",
       "      <td>0.003</td>\n",
       "      <td>0.002</td>\n",
       "      <td>5980.0</td>\n",
       "      <td>6867.0</td>\n",
       "      <td>1.0</td>\n",
       "    </tr>\n",
       "    <tr>\n",
       "      <th>std_B</th>\n",
       "      <td>6.824</td>\n",
       "      <td>0.329</td>\n",
       "      <td>6.228</td>\n",
       "      <td>7.463</td>\n",
       "      <td>0.004</td>\n",
       "      <td>0.003</td>\n",
       "      <td>6512.0</td>\n",
       "      <td>7855.0</td>\n",
       "      <td>1.0</td>\n",
       "    </tr>\n",
       "    <tr>\n",
       "      <th>nu-1</th>\n",
       "      <td>44.372</td>\n",
       "      <td>28.716</td>\n",
       "      <td>8.488</td>\n",
       "      <td>98.809</td>\n",
       "      <td>0.357</td>\n",
       "      <td>0.253</td>\n",
       "      <td>5833.0</td>\n",
       "      <td>7142.0</td>\n",
       "      <td>1.0</td>\n",
       "    </tr>\n",
       "    <tr>\n",
       "      <th>difference of means</th>\n",
       "      <td>-4.898</td>\n",
       "      <td>0.513</td>\n",
       "      <td>-5.865</td>\n",
       "      <td>-3.932</td>\n",
       "      <td>0.005</td>\n",
       "      <td>0.004</td>\n",
       "      <td>8959.0</td>\n",
       "      <td>10576.0</td>\n",
       "      <td>1.0</td>\n",
       "    </tr>\n",
       "    <tr>\n",
       "      <th>difference of stds</th>\n",
       "      <td>-2.882</td>\n",
       "      <td>0.368</td>\n",
       "      <td>-3.571</td>\n",
       "      <td>-2.196</td>\n",
       "      <td>0.004</td>\n",
       "      <td>0.003</td>\n",
       "      <td>7432.0</td>\n",
       "      <td>9468.0</td>\n",
       "      <td>1.0</td>\n",
       "    </tr>\n",
       "    <tr>\n",
       "      <th>effect size</th>\n",
       "      <td>-0.880</td>\n",
       "      <td>0.099</td>\n",
       "      <td>-1.075</td>\n",
       "      <td>-0.699</td>\n",
       "      <td>0.001</td>\n",
       "      <td>0.001</td>\n",
       "      <td>8149.0</td>\n",
       "      <td>11586.0</td>\n",
       "      <td>1.0</td>\n",
       "    </tr>\n",
       "  </tbody>\n",
       "</table>\n",
       "</div>"
      ],
      "text/plain": [
       "                       mean      sd  hdi_3%  hdi_97%  mcse_mean  mcse_sd   \n",
       "mu_A                 30.134   0.257  29.636   30.605      0.003    0.002  \\\n",
       "mu_B                 35.033   0.444  34.190   35.847      0.005    0.003   \n",
       "std_A                 3.942   0.199   3.563    4.304      0.003    0.002   \n",
       "std_B                 6.824   0.329   6.228    7.463      0.004    0.003   \n",
       "nu-1                 44.372  28.716   8.488   98.809      0.357    0.253   \n",
       "difference of means  -4.898   0.513  -5.865   -3.932      0.005    0.004   \n",
       "difference of stds   -2.882   0.368  -3.571   -2.196      0.004    0.003   \n",
       "effect size          -0.880   0.099  -1.075   -0.699      0.001    0.001   \n",
       "\n",
       "                     ess_bulk  ess_tail  r_hat  \n",
       "mu_A                   8118.0    8473.0    1.0  \n",
       "mu_B                   8822.0    9056.0    1.0  \n",
       "std_A                  5980.0    6867.0    1.0  \n",
       "std_B                  6512.0    7855.0    1.0  \n",
       "nu-1                   5833.0    7142.0    1.0  \n",
       "difference of means    8959.0   10576.0    1.0  \n",
       "difference of stds     7432.0    9468.0    1.0  \n",
       "effect size            8149.0   11586.0    1.0  "
      ]
     },
     "execution_count": 18,
     "metadata": {},
     "output_type": "execute_result"
    },
    {
     "data": {
      "image/png": "[encoded data removed]",
      "text/plain": [
       "<Figure size 1000x700 with 3 Axes>"
      ]
     },
     "metadata": {},
     "output_type": "display_data"
    }
   ],
   "source": [
    "import pymc as pm\n",
    "import arviz as az\n",
    "import matplotlib.pyplot as plt\n",
    "\n",
    "# PyMC v4에서 MCMC 샘플링을 진행하는 코드\n",
    "with model:\n",
    "    trace = pm.sample(20000, tune=10000, chains=2, step=pm.Metropolis(), return_inferencedata=True)\n",
    "\n",
    "# 추적 객체에서 파라미터의 흔적을 추출\n",
    "mu_A_trace = trace.posterior[\"mu_A\"].values.flatten()\n",
    "mu_B_trace = trace.posterior[\"mu_B\"].values.flatten()\n",
    "std_A_trace = trace.posterior[\"std_A\"].values.flatten()\n",
    "std_B_trace = trace.posterior[\"std_B\"].values.flatten()\n",
    "nu_trace = trace.posterior[\"nu-1\"].values.flatten()  # 'nu-1'이 'nu'로 변경되었는지 확인하세요.\n",
    "\n",
    "\n",
    "# 시각화\n",
    "def _hist(data, label, **kwargs):\n",
    "    return plt.hist(data, bins=40, histtype=\"stepfilled\", alpha=.95, label=label, **kwargs)\n",
    "\n",
    "# Posterior distributions plotting\n",
    "plt.figure(figsize=[10, 7])  # 조정해야 할 수도 있습니다.\n",
    "ax = plt.subplot(3, 1, 1)\n",
    "_hist(mu_A_trace, \"A\")\n",
    "_hist(mu_B_trace, \"B\")\n",
    "plt.legend()\n",
    "plt.title(\"Posterior distributions of $\\mu$\")\n",
    "\n",
    "ax = plt.subplot(3, 1, 2)\n",
    "_hist(std_A_trace, \"A\")\n",
    "_hist(std_B_trace, \"B\")\n",
    "plt.legend()\n",
    "plt.title(\"Posterior distributions of $\\sigma$\")\n",
    "\n",
    "ax = plt.subplot(3, 1, 3)\n",
    "_hist(nu_trace, \"\", color=\"#7A68A6\")\n",
    "plt.title(\"Posterior distributions of $\\nu$\")\n",
    "plt.xlabel(\"Value\")\n",
    "plt.ylabel(\"Density\")\n",
    "plt.tight_layout()\n",
    "\n",
    "# 차이 출력\n",
    "print(f\"A평균:{mu_A_trace.mean():.3f}, B평균:{mu_B_trace.mean():.3f}, A-B평균:{(mu_A_trace - mu_B_trace).mean():.3f}\")\n",
    "\n",
    "# Summary and diagnostics\n",
    "az.summary(trace)\n"
   ]
  },
  {
   "cell_type": "code",
   "execution_count": 8,
   "metadata": {},
   "outputs": [
    {
     "ename": "AttributeError",
     "evalue": "module 'pymc' has no attribute 'MCMC'",
     "output_type": "error",
     "traceback": [
      "\u001b[0;31m---------------------------------------------------------------------------\u001b[0m",
      "\u001b[0;31mAttributeError\u001b[0m                            Traceback (most recent call last)",
      "Cell \u001b[0;32mIn[8], line 1\u001b[0m\n\u001b[0;32m----> 1\u001b[0m mcmc \u001b[38;5;241m=\u001b[39m \u001b[43mpm\u001b[49m\u001b[38;5;241;43m.\u001b[39;49m\u001b[43mMCMC\u001b[49m([obs_A,obs_B,mu_A,mu_B,std_A,std_B,nu_m1])\n\u001b[1;32m      2\u001b[0m mcmc\u001b[38;5;241m.\u001b[39msample(\u001b[38;5;241m25000\u001b[39m,\u001b[38;5;241m10000\u001b[39m)\n\u001b[1;32m      4\u001b[0m \u001b[38;5;66;03m# %%\u001b[39;00m\n",
      "\u001b[0;31mAttributeError\u001b[0m: module 'pymc' has no attribute 'MCMC'"
     ]
    }
   ],
   "source": [
    "\n",
    "mcmc = pm.MCMC([obs_A,obs_B,mu_A,mu_B,std_A,std_B,nu_m1])\n",
    "mcmc.sample(25000,10000)\n",
    "\n",
    "# %%\n",
    "mu_A_trace = mcmc.trace(\"mu_A\")[:]\n",
    "mu_B_trace = mcmc.trace(\"mu_B\")[:]\n",
    "std_A_trace = mcmc.trace(\"std_A\")[:]\n",
    "std_B_trace = mcmc.trace(\"std_B\")[:] #[:]: trace object => ndarray\n",
    "nu_trace    = mcmc.trace(\"nu-1\")[:]+1\n",
    "\n",
    "# %%\n",
    "def _hist(data,label,**kwargs):\n",
    "    return plt.hist(data,bins=40,histtype=\"stepfilled\",alpha=.95,label=label, **kwargs)\n",
    "\n",
    "ax = plt.subplot(3,1,1)\n",
    "_hist(mu_A_trace,\"A\")\n",
    "_hist(mu_B_trace,\"B\")\n",
    "plt.legend ()\n",
    "plt.title(\"Posterior distributions of $\\mu$\")\n",
    "\n",
    "ax=plt.subplot (3,1,2)\n",
    "_hist(std_A_trace,\"A\")\n",
    "_hist(std_B_trace,\"B\")\n",
    "plt.legend ()\n",
    "plt.title(\"Posterior distributions of $\\sigma$\")\n",
    "\n",
    "ax=plt.subplot (3,1,3)\n",
    "_hist(nu_trace,\"\",color=\"#7A68A6\")\n",
    "plt.title(r\"Posterior distributions of $\\nu$\")\n",
    "plt.xlabel(\"Value\")\n",
    "plt.ylabel(\"Density\")\n",
    "plt.tight_layout()\n",
    "# plt.savefig(\"../assaeunji.github.io/images/abtest-duration.png\")\n",
    "\n",
    "# %%\n",
    "# Difference\n",
    "print(\"A평균:{:.3f}, B평균:{:.3f}, A-B평균:{:.3f}\".format(mu_A_trace.mean(), mu_B_trace.mean(), (mu_A_trace-mu_B_trace).mean()))\n",
    "\n",
    "# %%\n",
    "pm.Matplot.plot(mcmc)\n",
    "mcmc.summary()"
   ]
  },
  {
   "cell_type": "code",
   "execution_count": null,
   "metadata": {},
   "outputs": [],
   "source": []
  }
 ],
 "metadata": {
  "kernelspec": {
   "display_name": "tf28",
   "language": "python",
   "name": "python3"
  },
  "language_info": {
   "codemirror_mode": {
    "name": "ipython",
    "version": 3
   },
   "file_extension": ".py",
   "mimetype": "text/x-python",
   "name": "python",
   "nbconvert_exporter": "python",
   "pygments_lexer": "ipython3",
   "version": "3.9.16"
  }
 },
 "nbformat": 4,
 "nbformat_minor": 2
}
