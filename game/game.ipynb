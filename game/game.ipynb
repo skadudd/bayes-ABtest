{
 "cells": [
  {
   "cell_type": "code",
   "execution_count": 5,
   "metadata": {},
   "outputs": [
    {
     "data": {
      "text/plain": [
       "{p_1400: 1.66666666666667*p_3000 - 3.33333333333333*p_no_prize + 3.331,\n",
       " p_2000: -2.66666666666667*p_3000 + 2.33333333333333*p_no_prize - 2.331}"
      ]
     },
     "execution_count": 5,
     "metadata": {},
     "output_type": "execute_result"
    }
   ],
   "source": [
    "from sympy import symbols, Eq, solve\n",
    "\n",
    "# Define the variables\n",
    "p_1400, p_2000, p_3000, p_no_prize = symbols('p_1400 p_2000 p_3000 p_no_prize')\n",
    "\n",
    "# Define the equation for expected value per click\n",
    "eq1 = Eq(1400 * p_1400 + 2000 * p_2000 + 3000 * p_3000, 1.4)\n",
    "\n",
    "# Define the equation for the total probability\n",
    "eq2 = Eq(p_1400 + p_2000 + p_3000 + p_no_prize, 1)\n",
    "\n",
    "# Solve the system of equations\n",
    "# Assume p_no_prize to be as high as possible (no exact values yet, we're solving for the others)\n",
    "probabilities = solve((eq1, eq2), (p_1400, p_2000, p_3000, p_no_prize))\n",
    "probabilities\n"
   ]
  }
 ],
 "metadata": {
  "kernelspec": {
   "display_name": "stats",
   "language": "python",
   "name": "python3"
  },
  "language_info": {
   "codemirror_mode": {
    "name": "ipython",
    "version": 3
   },
   "file_extension": ".py",
   "mimetype": "text/x-python",
   "name": "python",
   "nbconvert_exporter": "python",
   "pygments_lexer": "ipython3",
   "version": "3.11.4"
  }
 },
 "nbformat": 4,
 "nbformat_minor": 2
}
