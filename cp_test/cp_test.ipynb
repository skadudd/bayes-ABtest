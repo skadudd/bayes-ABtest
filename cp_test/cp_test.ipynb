{
 "cells": [
  {
   "cell_type": "code",
   "execution_count": null,
   "metadata": {},
   "outputs": [],
   "source": [
    "import pandas as pd\n",
    "import numpy as np\n",
    "import os\n",
    "import json\n",
    "import requests\n",
    "\n",
    "pd.options.display.max_columns = 100\n",
    "pd.options.display.max_rows=1000\n"
   ]
  },
  {
   "cell_type": "code",
   "execution_count": null,
   "metadata": {},
   "outputs": [],
   "source": [
    "lct = \"/Users/nam-yeong/Downloads/balso_tmp\"\n",
    "folders = os.listdir(lct)\n",
    "\n",
    "for i in folders:\n",
    "    print(os.path.join(lct,i))\n",
    "    \n"
   ]
  },
  {
   "cell_type": "markdown",
   "metadata": {},
   "source": [
    "Clicl에 상품정보 담기지 않은 개발 이슈. Impression > CLick 퍼널 이어진 데이터를 선별해서 상품 정보 Stitching"
   ]
  },
  {
   "cell_type": "code",
   "execution_count": null,
   "metadata": {},
   "outputs": [],
   "source": [
    "tst = folders[1]\n",
    "# chunksize = 5000\n",
    "# nrows = 1000\n",
    "df = pd.read_csv(f\"/Users/nam-yeong/Downloads/balso_tmp/{tst}\")\n",
    "df.query(\"`Event Category`.str.contains('AD')\")\n",
    "conv_users = list(set(df.query(\"`Event Category`.str.contains('Click')\")['Airbridge Device ID'].tolist()))\n",
    "df = df.query(\"`Airbridge Device ID` in @conv_users\")\n",
    "df[(df['Event Category'].str.contains('Impression') )& (df['Event Datetime']>='2024-04-08T23:59:50+09:00')]\n",
    "\n",
    "df.drop_duplicates(subset=['Airbridge Device ID','Event Datetime','Event Category','Product List'],inplace=True)\n"
   ]
  },
  {
   "cell_type": "code",
   "execution_count": null,
   "metadata": {},
   "outputs": [],
   "source": [
    "len(df[df['Event Category'].str.contains('Click')])"
   ]
  },
  {
   "cell_type": "code",
   "execution_count": null,
   "metadata": {},
   "outputs": [],
   "source": [
    "df.sort_values(by=['Airbridge Device ID', 'Event Datetime','Event Category'],ascending=[True,True,False], inplace=True)\n",
    "df['prev_prop'] = df.groupby('Airbridge Device ID')['Product Name'].shift(1)\n",
    "# df[(df['prev_prop'].notna()) & (df['Event Category'].str.contains('Click'))]\n",
    "df = df[(df['prev_prop'].notna()) & (df['Event Category'].str.contains('Click'))]\n",
    "\n",
    "df"
   ]
  },
  {
   "cell_type": "code",
   "execution_count": null,
   "metadata": {},
   "outputs": [],
   "source": [
    "len(df[(df['prev_prop'].notna()) & (df['Event Category'].str.contains('Click'))]) "
   ]
  },
  {
   "cell_type": "markdown",
   "metadata": {},
   "source": [
    "자정에 데이터 끊기는 이슈. 타겟 date, d+1 데이터 로드해서 처리 후, d+1 데이터는 burn \\\n",
    "마지막 데이터의 경우, Click에 상품정보 포함되어 있음. 따라서 burn 이후, 정상 데이터 merge"
   ]
  },
  {
   "cell_type": "code",
   "execution_count": null,
   "metadata": {},
   "outputs": [],
   "source": []
  }
 ],
 "metadata": {
  "kernelspec": {
   "display_name": "pymc_env",
   "language": "python",
   "name": "python3"
  },
  "language_info": {
   "name": "python",
   "version": "3.12.2"
  }
 },
 "nbformat": 4,
 "nbformat_minor": 2
}
